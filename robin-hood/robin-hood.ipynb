{
 "cells": [
  {
   "cell_type": "markdown",
   "metadata": {},
   "source": [
    "# Robin Hood:\n",
    "We are in a competition to win the archery contest in Sherwood. With our bow and arrows we shoot on a target and try to hit as close as possible to the center.\n",
    "\n",
    "The center of the target is represented by the values (0, 0) on the coordinate axes.\n",
    "\n",
    "![](images/arrows.jpg)\n",
    "\n",
    "## Goals:\n",
    "* data structures: lists, sets, tuples\n",
    "* logical operators: if-elif-else\n",
    "* loop: while/for\n",
    "* minimum (optional sorting)\n",
    "\n",
    "## Description:\n",
    "In the 2-dimensional space, a point can be defined by a pair of values that correspond to the horizontal coordinate (x) and the vertical coordinate (y). The space can be divided into 4 zones (quadrants): Q1, Q2, Q3, Q4. Whose single point of union is the point (0, 0).\n",
    "\n",
    "If a point is in Q1 both its x coordinate and the y are positive. I leave a link to wikipedia to familiarize yourself with these quadrants.\n",
    "\n",
    "https://en.wikipedia.org/wiki/Cartesian_coordinate_system\n",
    "\n",
    "https://en.wikipedia.org/wiki/Euclidean_distance\n",
    "\n",
    "## Shots\n",
    "```\n",
    "points = [(4, 5), (-0, 2), (4, 7), (1, -3), (3, -2), (4, 5),\n",
    "          (3, 2), (5, 7), (-5, 7), (2, 2), (-4, 5), (0, -2),\n",
    "          (-4, 7), (-1, 3), (-3, 2), (-4, -5), (-3, 2),\n",
    "          (5, 7), (5, 7), (2, 2), (9, 9), (-8, -9)]\n",
    "```\n",
    "\n",
    "## Tasks\n",
    "1. Robin Hood is famous for hitting an arrow with another arrow. Did you get it?\n",
    "2. Calculate how many arrows have fallen in each quadrant.\n",
    "3. Find the point closest to the center. Calculate its distance to the center. \n",
    "4. If the target has a radius of 9, calculate the number of arrows that must be picked up in the forest."
   ]
  },
  {
   "cell_type": "code",
   "execution_count": 1,
   "metadata": {},
   "outputs": [],
   "source": [
    "# Variables\n",
    "\n",
    "points = [(4, 5), (-0, 2), (4, 7), (1, -3), (3, -2), (4, 5),\n",
    "          (3, 2), (5, 7), (-5, 7), (2, 2), (-4, 5), (0, -2),\n",
    "          (-4, 7), (-1, 3), (-3, 2), (-4, -5), (-3, 2),\n",
    "          (5, 7), (5, 7), (2, 2), (9, 9), (-8, -9)]"
   ]
  },
  {
   "cell_type": "code",
   "execution_count": 8,
   "metadata": {},
   "outputs": [
    {
     "data": {
      "text/plain": [
       "{(-8, -9),\n",
       " (-5, 7),\n",
       " (-4, -5),\n",
       " (-4, 5),\n",
       " (-4, 7),\n",
       " (-3, 2),\n",
       " (-1, 3),\n",
       " (0, -2),\n",
       " (0, 2),\n",
       " (1, -3),\n",
       " (2, 2),\n",
       " (3, -2),\n",
       " (3, 2),\n",
       " (4, 5),\n",
       " (4, 7),\n",
       " (5, 7),\n",
       " (9, 9)}"
      ]
     },
     "execution_count": 8,
     "metadata": {},
     "output_type": "execute_result"
    }
   ],
   "source": [
    "# 1. Robin Hood is famous for hitting an arrow with another arrow. Did you get it?\n",
    "\n",
    "#Comment by Lena: I can turn the points list into a set to exclude duplicate hits.\n",
    "set(points)"
   ]
  },
  {
   "cell_type": "code",
   "execution_count": 25,
   "metadata": {},
   "outputs": [
    {
     "name": "stdout",
     "output_type": "stream",
     "text": [
      "11 arrows have fallen in quadrant 1.\n",
      "6 arrows have fallen in quadrant 2.\n",
      "2 arrows have fallen in quadrant 3.\n",
      "3 arrows have fallen in quadrant 4.\n"
     ]
    }
   ],
   "source": [
    "# 2. Calculate how many arrows have fallen in each quadrant.\n",
    "\n",
    "quad_one=0\n",
    "quad_two=0\n",
    "quad_three=0\n",
    "quad_four=0\n",
    "\n",
    "for i in range(0,(len(points))):\n",
    "    if points[i][0]>=0 and points[i][1]>=0:\n",
    "        quad_one+=1\n",
    "    elif points[i][0]<0 and points[i][1]>=0:\n",
    "        quad_two+=1\n",
    "    elif points[i][0]<0 and points[i][1]<0:\n",
    "        quad_three+=1\n",
    "    elif points[i][0]>=0 and points[i][1]<0:\n",
    "        quad_four+=1\n",
    "    \n",
    "print(quad_one,\"arrows have fallen in quadrant 1.\")\n",
    "print(quad_two,\"arrows have fallen in quadrant 2.\")\n",
    "print(quad_three,\"arrows have fallen in quadrant 3.\")\n",
    "print(quad_four,\"arrows have fallen in quadrant 4.\")\n"
   ]
  },
  {
   "cell_type": "code",
   "execution_count": 24,
   "metadata": {},
   "outputs": [
    {
     "name": "stdout",
     "output_type": "stream",
     "text": [
      "The point closest to the center is (0, 2) .\n"
     ]
    }
   ],
   "source": [
    "# 3. Find the point closest to the center. Calculate its distance to the center\n",
    "# Defining a function that calculates the distance to the center can help.\n",
    "\n",
    "d=0\n",
    "distance=[]\n",
    "\n",
    "def find_d(x,y):\n",
    "   return (x**2+y**2)**0.5\n",
    "\n",
    "for (x,y) in points:\n",
    "   d=find_d(x,y)\n",
    "   distance.append(d)  \n",
    "\n",
    "min_index=distance.index(min(distance))\n",
    "print(\"The point closest to the center is\",points[min_index],\".\")"
   ]
  },
  {
   "cell_type": "code",
   "execution_count": 23,
   "metadata": {},
   "outputs": [
    {
     "name": "stdout",
     "output_type": "stream",
     "text": [
      "2 arrows need to be picked up in the forest.\n"
     ]
    }
   ],
   "source": [
    "# 4. If the target has a radius of 9, calculate the number of arrows that \n",
    "# must be picked up in the forest.\n",
    "\n",
    "arrows_picked_up=0\n",
    "arrows_hit=0\n",
    "\n",
    "for i in distance:\n",
    "    if i>9:\n",
    "        arrows_picked_up+=1\n",
    "    elif i<=9:\n",
    "        arrows_hit+=1\n",
    "\n",
    "print(arrows_picked_up, \"arrows need to be picked up in the forest.\")"
   ]
  },
  {
   "cell_type": "code",
   "execution_count": 15,
   "metadata": {},
   "outputs": [
    {
     "name": "stdout",
     "output_type": "stream",
     "text": [
      "9.0\n"
     ]
    }
   ],
   "source": [
    "x1=0\n",
    "y1=0\n",
    "x2=9\n",
    "y2=0\n",
    "\n",
    "import math  \n",
    "def calculateDistance(x1,y1,x2,y2):  \n",
    "     dist = math.sqrt((x2 - x1)**2 + (y2 - y1)**2)  \n",
    "     return dist  \n",
    "print(calculateDistance(x1, y1, x2, y2))"
   ]
  },
  {
   "cell_type": "code",
   "execution_count": null,
   "metadata": {},
   "outputs": [],
   "source": []
  }
 ],
 "metadata": {
  "kernelspec": {
   "display_name": "Python 3",
   "language": "python",
   "name": "python3"
  },
  "language_info": {
   "codemirror_mode": {
    "name": "ipython",
    "version": 3
   },
   "file_extension": ".py",
   "mimetype": "text/x-python",
   "name": "python",
   "nbconvert_exporter": "python",
   "pygments_lexer": "ipython3",
   "version": "3.7.3"
  }
 },
 "nbformat": 4,
 "nbformat_minor": 2
}
